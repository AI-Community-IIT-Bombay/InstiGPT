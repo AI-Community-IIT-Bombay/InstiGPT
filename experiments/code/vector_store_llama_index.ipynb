{
  "nbformat": 4,
  "nbformat_minor": 0,
  "metadata": {
    "colab": {
      "provenance": [],
      "gpuType": "T4"
    },
    "kernelspec": {
      "name": "python3",
      "display_name": "Python 3"
    },
    "language_info": {
      "name": "python"
    },
    "accelerator": "GPU"
  },
  "cells": [
    {
      "cell_type": "code",
      "execution_count": null,
      "metadata": {
        "id": "E8Fs0uOJSTTQ"
      },
      "outputs": [],
      "source": [
        "!pip install -q pypdf\n",
        "!pip install -q python-dotenv\n",
        "!pip install -q transformers\n",
        "!pip install -q llama-index\n",
        "!pip install llama-index chromadb --quiet\n",
        "!pip install chromadb\n",
        "!pip install sentence-transformers\n",
        "!pip install langchain"
      ]
    },
    {
      "cell_type": "code",
      "source": [
        "from google.colab import drive\n",
        "drive.mount('/content/drive')"
      ],
      "metadata": {
        "colab": {
          "base_uri": "https://localhost:8080/"
        },
        "id": "pcRIupKzk1Bc",
        "outputId": "2988e831-f681-4b0b-809b-ef5e32294087"
      },
      "execution_count": 2,
      "outputs": [
        {
          "output_type": "stream",
          "name": "stdout",
          "text": [
            "Mounted at /content/drive\n"
          ]
        }
      ]
    },
    {
      "cell_type": "code",
      "source": [
        "from pathlib import Path\n",
        "from llama_index import download_loader\n",
        "\n",
        "JSONReader = download_loader(\"JSONReader\")\n",
        "\n",
        "loader = JSONReader()\n",
        "documents = loader.load_data(Path('/content/drive/MyDrive/instigpt_data/resobin_courses_new.json'))\n"
      ],
      "metadata": {
        "id": "LyX2teCulZfD"
      },
      "execution_count": 5,
      "outputs": []
    },
    {
      "cell_type": "code",
      "source": [
        "!CMAKE_ARGS=\"-DLLAMA_CUBLAS=on\" FORCE_CMAKE=1 pip install  llama-cpp-python --no-cache-dir"
      ],
      "metadata": {
        "colab": {
          "base_uri": "https://localhost:8080/"
        },
        "id": "SexHPtpySwlA",
        "outputId": "a86ddcc8-1859-4ed8-9f6d-9fdabab664eb"
      },
      "execution_count": 6,
      "outputs": [
        {
          "output_type": "stream",
          "name": "stdout",
          "text": [
            "Requirement already satisfied: llama-cpp-python in /usr/local/lib/python3.10/dist-packages (0.2.22)\n",
            "Requirement already satisfied: typing-extensions>=4.5.0 in /usr/local/lib/python3.10/dist-packages (from llama-cpp-python) (4.9.0)\n",
            "Requirement already satisfied: numpy>=1.20.0 in /usr/local/lib/python3.10/dist-packages (from llama-cpp-python) (1.23.5)\n",
            "Requirement already satisfied: diskcache>=5.6.1 in /usr/local/lib/python3.10/dist-packages (from llama-cpp-python) (5.6.3)\n"
          ]
        }
      ]
    },
    {
      "cell_type": "code",
      "source": [
        "import pandas as pd\n",
        "import chromadb\n",
        "from llama_index.vector_stores import ChromaVectorStore\n",
        "from llama_index.storage.storage_context import StorageContext\n",
        "from IPython.display import Markdown, display\n",
        "\n",
        "from llama_index import (VectorStoreIndex,\n",
        "                         SimpleDirectoryReader,\n",
        "                         ServiceContext\n",
        "                         )"
      ],
      "metadata": {
        "id": "fHMBvxnhS2Ia"
      },
      "execution_count": 7,
      "outputs": []
    },
    {
      "cell_type": "code",
      "source": [
        "# data_folder_path = \"/content/data_folder\""
      ],
      "metadata": {
        "id": "LtTxMQpBS3fA"
      },
      "execution_count": 6,
      "outputs": []
    },
    {
      "cell_type": "code",
      "source": [
        "# documents = SimpleDirectoryReader(data_folder_path).load_data()"
      ],
      "metadata": {
        "id": "kWMrBhd1TKD3"
      },
      "execution_count": 7,
      "outputs": []
    },
    {
      "cell_type": "code",
      "source": [
        "len(documents)"
      ],
      "metadata": {
        "colab": {
          "base_uri": "https://localhost:8080/"
        },
        "id": "K9ElsJ3ETOeI",
        "outputId": "ec461b5b-17b1-4b5c-d657-15682720aa59"
      },
      "execution_count": 8,
      "outputs": [
        {
          "output_type": "execute_result",
          "data": {
            "text/plain": [
              "4003"
            ]
          },
          "metadata": {},
          "execution_count": 8
        }
      ]
    },
    {
      "cell_type": "markdown",
      "source": [
        "Decide which model you want to use from the following list of quantized models"
      ],
      "metadata": {
        "id": "mYeeyxvSLmEE"
      }
    },
    {
      "cell_type": "code",
      "source": [
        "model_dictionary = {\n",
        "    \"open_chat_3.5\": \"https://huggingface.co/TheBloke/openchat_3.5-GGUF/resolve/main/openchat_3.5.Q5_K_M.gguf\",\n",
        "    \"mistral\": [\"https://huggingface.co/TheBloke/Mistral-7B-Instruct-v0.1-GGUF/resolve/main/mistral-7b-instruct-v0.1.Q4_K_M.gguf\",\n",
        "                \"https://huggingface.co/TheBloke/Mistral-7B-Instruct-v0.1-GGUF/blob/main/mistral-7b-instruct-v0.1.Q4_0.gguf\",\n",
        "                \"https://huggingface.co/TheBloke/Mistral-7B-Instruct-v0.1-GGUF/blob/main/mistral-7b-instruct-v0.1.Q4_K_S.gguf\",\n",
        "                \"https://huggingface.co/TheBloke/Mistral-7B-Instruct-v0.1-GGUF/blob/main/mistral-7b-instruct-v0.1.Q5_0.gguf\",\n",
        "                \"https://huggingface.co/TheBloke/Mistral-7B-Instruct-v0.1-GGUF/blob/main/mistral-7b-instruct-v0.1.Q5_K_M.gguf\",\n",
        "                \"https://huggingface.co/TheBloke/Mistral-7B-Instruct-v0.1-GGUF/blob/main/mistral-7b-instruct-v0.1.Q5_K_S.gguf\",\n",
        "                \"https://huggingface.co/TheBloke/Mistral-7B-Instruct-v0.1-GGUF/blob/main/mistral-7b-instruct-v0.1.Q6_K.gguf\",\n",
        "                \"https://huggingface.co/TheBloke/Mistral-7B-Instruct-v0.1-GGUF/blob/main/mistral-7b-instruct-v0.1.Q8_0.gguf\"\n",
        "                ],\n",
        "    \"zephyr_beta\": [\"https://huggingface.co/TheBloke/zephyr-7B-beta-GGUF/blob/main/zephyr-7b-beta.Q4_0.gguf\",\n",
        "                    \"https://huggingface.co/TheBloke/zephyr-7B-beta-GGUF/blob/main/zephyr-7b-beta.Q4_K_M.gguf\",\n",
        "                    \"https://huggingface.co/TheBloke/zephyr-7B-beta-GGUF/blob/main/zephyr-7b-beta.Q4_K_S.gguf\",\n",
        "                    \"https://huggingface.co/TheBloke/zephyr-7B-beta-GGUF/blob/main/zephyr-7b-beta.Q5_0.gguf\",\n",
        "                    \"https://huggingface.co/TheBloke/zephyr-7B-beta-GGUF/blob/main/zephyr-7b-beta.Q5_K_M.gguf\",\n",
        "                    \"https://huggingface.co/TheBloke/zephyr-7B-beta-GGUF/blob/main/zephyr-7b-beta.Q5_K_S.gguf\",\n",
        "                    \"https://huggingface.co/TheBloke/zephyr-7B-beta-GGUF/blob/main/zephyr-7b-beta.Q6_K.gguf\",\n",
        "                    \"https://huggingface.co/TheBloke/zephyr-7B-beta-GGUF/blob/main/zephyr-7b-beta.Q8_0.gguf\"\n",
        "                    ]\n",
        "}"
      ],
      "metadata": {
        "id": "uRl2C1G3JYMQ"
      },
      "execution_count": 23,
      "outputs": []
    },
    {
      "cell_type": "code",
      "source": [
        "import torch\n",
        "from llama_index.llms import LlamaCPP\n",
        "from llama_index.llms.llama_utils import messages_to_prompt, completion_to_prompt\n",
        "llm = LlamaCPP(\n",
        "    model_url=model_dictionary[\"mistral\"][0],\n",
        "    model_path=None,\n",
        "    temperature=0.1,\n",
        "    max_new_tokens=256,\n",
        "    context_window=8000,\n",
        "    generate_kwargs={},\n",
        "    model_kwargs={\"n_gpu_layers\": -1},\n",
        "    messages_to_prompt=messages_to_prompt,\n",
        "    completion_to_prompt=completion_to_prompt,\n",
        "    verbose=True,\n",
        ")\n"
      ],
      "metadata": {
        "colab": {
          "base_uri": "https://localhost:8080/"
        },
        "id": "djRGfM6nTOv6",
        "outputId": "6b45664c-d693-40d1-be5f-abd0220cab3d"
      },
      "execution_count": 1,
      "outputs": [
        {
          "output_type": "stream",
          "name": "stderr",
          "text": [
            "AVX = 1 | AVX2 = 1 | AVX512 = 1 | AVX512_VBMI = 0 | AVX512_VNNI = 0 | FMA = 1 | NEON = 0 | ARM_FMA = 0 | F16C = 1 | FP16_VA = 0 | WASM_SIMD = 0 | BLAS = 1 | SSE3 = 1 | SSSE3 = 1 | VSX = 0 | \n"
          ]
        }
      ]
    },
    {
      "cell_type": "code",
      "source": [
        "from llama_index.embeddings import HuggingFaceEmbedding\n",
        "\n",
        "model_name=\"sentence-transformers/all-MiniLM-L6-v2\"\n",
        "embed_model = HuggingFaceEmbedding(model_name=model_name)\n",
        "# embed_model = HuggingFaceEmbedding(model_name=\"thenlper/gte-large\")"
      ],
      "metadata": {
        "id": "VKNE4pmATUc4"
      },
      "execution_count": 14,
      "outputs": []
    },
    {
      "cell_type": "code",
      "source": [
        "%pwd"
      ],
      "metadata": {
        "colab": {
          "base_uri": "https://localhost:8080/",
          "height": 36
        },
        "id": "byEdqiE3cbny",
        "outputId": "405aa77e-6838-477b-8db2-c9ca4626b70d"
      },
      "execution_count": 15,
      "outputs": [
        {
          "output_type": "execute_result",
          "data": {
            "text/plain": [
              "'/content'"
            ],
            "application/vnd.google.colaboratory.intrinsic+json": {
              "type": "string"
            }
          },
          "metadata": {},
          "execution_count": 15
        }
      ]
    },
    {
      "cell_type": "markdown",
      "source": [
        "Change 'chunk_siz', 'chunk_overlap' and 'model'. Model embeddings will be saved at the given embeddings_path"
      ],
      "metadata": {
        "id": "xej3e8m4Luop"
      }
    },
    {
      "cell_type": "code",
      "source": [
        "chunk_size=128\n",
        "chunk_overlap=30\n",
        "model=\"all-MiniLM-L6-v2\"\n",
        "# embeddings_path=\"/content/drive/MyDrive/resobin_embeddings/all-MiniLM-L6-V2_128_30\"\n",
        "embeddings_path=f\"/content/drive/MyDrive/resobin_embeddings/{model}_{chunk_size}_{chunk_overlap}\""
      ],
      "metadata": {
        "id": "W7FzWFrj_HXc"
      },
      "execution_count": 16,
      "outputs": []
    },
    {
      "cell_type": "code",
      "source": [
        "# Save to disk\n",
        "# DO NOT RUN THIS CODE, if you want to test with embeddings created by someone else, use the code in next cell\n",
        "db = chromadb.PersistentClient(path=embeddings_path)\n",
        "chroma_collection = db.get_or_create_collection(\"resobin_collection\")\n",
        "vector_store = ChromaVectorStore(chroma_collection=chroma_collection)\n",
        "storage_context = StorageContext.from_defaults(vector_store=vector_store)\n",
        "service_context = ServiceContext.from_defaults(\n",
        "    chunk_size=chunk_size,\n",
        "    chunk_overlap=chunk_overlap,\n",
        "    llm=llm,\n",
        "    embed_model=embed_model,\n",
        "    )\n",
        "\n",
        "index = VectorStoreIndex.from_documents(\n",
        "    documents, storage_context=storage_context, service_context=service_context\n",
        ")\n"
      ],
      "metadata": {
        "id": "Ep6fqUJUUof5"
      },
      "execution_count": 18,
      "outputs": []
    },
    {
      "cell_type": "code",
      "source": [
        "# load from disk\n",
        "# This code is used to load embeddings of a model present at embeddings_path\n",
        "db2 = chromadb.PersistentClient(path=embeddings_path)\n",
        "chroma_collection = db2.get_or_create_collection(\"resobin_collection\")\n",
        "service_context = ServiceContext.from_defaults(\n",
        "    chunk_size=chunk_size,\n",
        "    chunk_overlap=chunk_overlap,\n",
        "    llm=llm,\n",
        "    embed_model=embed_model,\n",
        "    )\n",
        "\n",
        "vector_store = ChromaVectorStore(chroma_collection=chroma_collection)\n",
        "index = VectorStoreIndex.from_vector_store(\n",
        "    vector_store,\n",
        "    service_context=service_context,\n",
        ")\n"
      ],
      "metadata": {
        "id": "qamkqXPJYvX6"
      },
      "execution_count": 19,
      "outputs": []
    },
    {
      "cell_type": "code",
      "source": [
        "from llama_index import get_response_synthesizer\n",
        "from llama_index.retrievers import VectorIndexRetriever\n",
        "from llama_index.query_engine import RetrieverQueryEngine\n",
        "from llama_index.postprocessor import SimilarityPostprocessor"
      ],
      "metadata": {
        "id": "Yqk_XRJqsDJu"
      },
      "execution_count": 20,
      "outputs": []
    },
    {
      "cell_type": "code",
      "source": [
        "# Query Data from the persisted index\n",
        "query_engine = index.as_query_engine(similarity_top_k=35)\n",
        "response = query_engine.query(\"Give me a list of all the course by Energy Science and Engineering.\")\n",
        "display(Markdown(f\"<b>{response}</b>\"))\n"
      ],
      "metadata": {
        "colab": {
          "base_uri": "https://localhost:8080/",
          "height": 381
        },
        "id": "KZDy3UycXIsS",
        "outputId": "df32726d-e844-47b6-bc7e-0344d092c0e8"
      },
      "execution_count": 22,
      "outputs": [
        {
          "output_type": "stream",
          "name": "stderr",
          "text": [
            "Llama.generate: prefix-match hit\n"
          ]
        },
        {
          "output_type": "display_data",
          "data": {
            "text/plain": [
              "<IPython.core.display.Markdown object>"
            ],
            "text/markdown": "<b> Based on the provided context information, here is a list of courses offered by the \"Energy Science and Engineering\" department:\n\n1. EN408: Energy Design Project\n2. EN653: Energy Policy Analysis\n3. EN409: Mathematical Foundation for Energy Science\n4. EN110: Energy Engineering Fundamentals\n5. EN618: Energy Systems Modelling & Analysis\n6. EN401: Energy Systems modelling and analysis\n7. EN405: Energy Innovation Lab\n8. EN792: Communication Skills -II\n9. EN661: Micro and Nanoscale Energy Transport\n10. EN628: Materials and Devices for Energy Applications\n11. CM606: Energy Resources, Economics and Environment\n12. EN411: Physics for Energy Science\n13. EN705: An Introduction to Energy Systems Engineering\n14. EN601: Nonconventional Energy Sources\n15. EN607: Energy Management\n16. ES616: Energy Conversion and Environment\n17. EN21</b>"
          },
          "metadata": {}
        }
      ]
    },
    {
      "cell_type": "code",
      "source": [
        "# response"
      ],
      "metadata": {
        "colab": {
          "base_uri": "https://localhost:8080/"
        },
        "id": "7v5FnYvOdJjQ",
        "outputId": "73f950b7-56d5-4c4d-f5ea-2c64b14c00fd"
      },
      "execution_count": 29,
      "outputs": [
        {
          "output_type": "execute_result",
          "data": {
            "text/plain": [
              "Response(response=' Process Plant Simulation is a course offered by the Chemical Engineering department at the university. It covers various approaches to plant simulation, including steady-state sequential introduction to process model building and simulation; flowsheet topology representation methods and recycle detection algorithms; steady-state sequential modular simulation techniques, concepts of partitioning and tearing; and equation oriented simulation techniques. The course also covers solution methods for sparse systems and simultaneous modular simulation techniques. Additionally, it includes problem solving using selected commercial simulators and thermodynamic procedures in process simulators.', source_nodes=[NodeWithScore(node=TextNode(id_='6427c960-aece-4899-aae6-e051af493ebf', embedding=None, metadata={}, excluded_embed_metadata_keys=[], excluded_llm_metadata_keys=[], relationships={<NodeRelationship.SOURCE: '1'>: RelatedNodeInfo(node_id='e3908a7d-d051-4ecc-bce1-a9f978d4638c', node_type=<ObjectType.DOCUMENT: '4'>, metadata={}, hash='039d9fc2d79fe81dd429140183be40a6f956b402573de695edffb190d37efc8f'), <NodeRelationship.PREVIOUS: '2'>: RelatedNodeInfo(node_id='63fb4aee-69f2-48e8-8294-c92d5ef8c869', node_type=<ObjectType.TEXT: '1'>, metadata={}, hash='b865ce920b600f104cb62862dcba3dc46e5fe6e663a1ef8bf0e6533fdeb8ae96'), <NodeRelationship.NEXT: '3'>: RelatedNodeInfo(node_id='b541c28a-cd4d-4943-9af1-b63ed5bcb022', node_type=<ObjectType.TEXT: '1'>, metadata={}, hash='43d1e475e2d2c924ae0790e7953fb63487c107616e2a008815135d945690a6e2')}, hash='44136fa355b3678a1146ad16f7e8649e94fb4fc21fe77e8310c060f61caaff8a', text='{\\n\"doc\": {\\n\"code\": \"CL604\",\\n\"title\": \"Process Plant Simulation\",\\n\"department\": {\\n\"name\": \"Chemical Engineering\",\\n\"slug\": \"chemical-engineering\"\\n\"description\": \"Introduction to Process Plant Simulation, Various Approaches to Plant Simulation, Steady-State Sequential Introduction to process model building and simulation; Various approaches to plant simulation; Flowsheet topology representation methods and recycle detection algorithms; Steady-state sequential modular simulation techniques, concepts of partitioning and tearing; Recycle convergence algorithms; Equation oriented simulation techniques; Solution methods for sparse systems; Simultaneous modular simulation techniques; Steady state commercial simulation packages and their features; Problem solving using selected commercial simulators; Thermodynamic Procedures in Process Simulators; Introduction to Dynamic Simulation; Commercial Dynamic Simulators and their applications.\",\\n\"credits\": 6,\\n\"semester\": [\\n{\\n\"year\": 2023,\\n\"season\": \"autumn\",\\n\"timetable\": []\\n{\\n\"year\": 2023,\\n\"season\": \"spring\",\\n\"timetable\": [\\n{\\n\"id\": 3139,\\n\"created_by\": \"bd6806b6-2cdb-455d-a873-67b4f4f12157\",\\n\"course\": \"CL604\",\\n\"division\": \"Core\",\\n\"lecture_slots\": [\\n\"6A\",\\n\"6B\"\\n],\\n\"tutorial_slots\": [],\\n\"lecture_venue\": \"LT 101\",\\n\"professor\": \"Malik R.K.\"\\n}\\n]\\n}\\n],\\n\"tags\": [\\n\"Theory\",\\n\"Electives\"\\n]\\n}\\n}', start_char_idx=0, end_char_idx=1334, text_template='{metadata_str}\\n\\n{content}', metadata_template='{key}: {value}', metadata_seperator='\\n'), score=0.7646514092436538), NodeWithScore(node=TextNode(id_='1d313eab-7d6a-45a3-8fc4-cd526ce10410', embedding=None, metadata={}, excluded_embed_metadata_keys=[], excluded_llm_metadata_keys=[], relationships={<NodeRelationship.SOURCE: '1'>: RelatedNodeInfo(node_id='b136547b-da67-4ed9-bb0f-8afe0f1c4c8f', node_type=<ObjectType.DOCUMENT: '4'>, metadata={}, hash='5b8af33bcb6d96c66a356034fdfad17a08108781f14094b2e80ee7ccffd1a780'), <NodeRelationship.PREVIOUS: '2'>: RelatedNodeInfo(node_id='b1b41109-26a0-446b-9453-61c6ccd0f15f', node_type=<ObjectType.TEXT: '1'>, metadata={}, hash='ddd08878ec83a70fe52780941097a02369b40072bf287d70ae9718ae4a46baff'), <NodeRelationship.NEXT: '3'>: RelatedNodeInfo(node_id='d5a5d6e1-e334-486d-94e4-2411614da66e', node_type=<ObjectType.TEXT: '1'>, metadata={}, hash='fc5174664284d81a6e67a12ce0e30138cf94e23f54393a7f844064f79ddf978d')}, hash='44136fa355b3678a1146ad16f7e8649e94fb4fc21fe77e8310c060f61caaff8a', text='{\\n\"doc\": {\\n\"code\": \"MNG648\",\\n\"title\": \"Simulation of Business Systems\",\\n\"department\": {\\n\"name\": \"Shailesh J. Mehta School of Management\",\\n\"slug\": \"shailesh-j-mehta-school-of-management\"\\n\"description\": \"Introduction to the application of simulation modeling for the analysis of complex industrial and manufacturing service systems. Simulation Philosophy and Methodologies, Random number Generation, Input and output analysis for simulation, Simulation using Spreadsheets, Simulation Languages, Animation, Designand Execution of Simulation Experiments, What-IfScenarios. Evaluation and Application Case Studies in Manufacturing, Supply Chain, Project Scheduling, Financial Analysis, Marketing, and Capital Budgeting. System Dynamic Models and their Corporate Applications.\",\\n\"credits\": 6,\\n\"semester\": [\\n{\\n\"year\": 2023,\\n\"season\": \"autumn\",\\n\"timetable\": []\\n{\\n\"year\": 2023,\\n\"season\": \"spring\",\\n\"timetable\": []\\n}\\n],\\n\"tags\": [\\n\"Theory\"\\n]\\n}\\n}', start_char_idx=0, end_char_idx=934, text_template='{metadata_str}\\n\\n{content}', metadata_template='{key}: {value}', metadata_seperator='\\n'), score=0.6627169178827259), NodeWithScore(node=TextNode(id_='f2f992ab-54e3-4309-8898-815c2a7d0fff', embedding=None, metadata={}, excluded_embed_metadata_keys=[], excluded_llm_metadata_keys=[], relationships={<NodeRelationship.SOURCE: '1'>: RelatedNodeInfo(node_id='54723958-0bb6-436a-b843-388a05ac0a47', node_type=<ObjectType.DOCUMENT: '4'>, metadata={}, hash='043c1fb2f1798cb3d7b0578bd3836895dc48b7acdc29fdbc17d97ad469edfd18'), <NodeRelationship.PREVIOUS: '2'>: RelatedNodeInfo(node_id='66a19e22-5dca-4bda-a6a1-6d6ad415d1aa', node_type=<ObjectType.TEXT: '1'>, metadata={}, hash='044ef87e461994f880b5698c7ebafc38931972f1b41ea6d066eb7aa1f89265ca'), <NodeRelationship.NEXT: '3'>: RelatedNodeInfo(node_id='37afe1b0-a058-45cc-994a-e747317f0ff0', node_type=<ObjectType.TEXT: '1'>, metadata={}, hash='37fef86cdce0065f647d5e8faa7341064c9693fae18dad08465a285280d66019')}, hash='44136fa355b3678a1146ad16f7e8649e94fb4fc21fe77e8310c060f61caaff8a', text='{\\n\"doc\": {\\n\"code\": \"MGT648\",\\n\"title\": \"Simulation of Business Systems\",\\n\"department\": {\\n\"name\": \"Shailesh J. Mehta School of Management\",\\n\"slug\": \"shailesh-j-mehta-school-of-management\"\\n\"description\": \"Introduction to the application of simulation modeling for the analysis of complex industrial and manufacturing service systems. Simulation Philosophy and Methodologies, Random number Generation, Input and output analysis for simulation, Simulation using Spreadsheets, Simulation Languages, Animation, Design and Execution of Simulation Experiments, What-If Scenarios. Evaluation and Application Case Studies in Manufacturing, Supply Chain, Project Scheduling, Financial Analysis, Marketing, and Capital Budgeting. System Dynamic Models and their Corporate Applications.\",\\n\"credits\": 6,\\n\"semester\": [\\n{\\n\"year\": 2023,\\n\"season\": \"autumn\",\\n\"timetable\": []\\n{\\n\"year\": 2023,\\n\"season\": \"spring\",\\n\"timetable\": []\\n}\\n],\\n\"tags\": [\\n\"Theory\",\\n\"Minor\",\\n\"Elective\"\\n]\\n}\\n}', start_char_idx=0, end_char_idx=957, text_template='{metadata_str}\\n\\n{content}', metadata_template='{key}: {value}', metadata_seperator='\\n'), score=0.6625091356675301), NodeWithScore(node=TextNode(id_='df1dd52b-30ca-4fa9-89c2-bf7eb722f9d0', embedding=None, metadata={}, excluded_embed_metadata_keys=[], excluded_llm_metadata_keys=[], relationships={<NodeRelationship.SOURCE: '1'>: RelatedNodeInfo(node_id='37ae7a9b-8e80-4dfd-8ff5-8e535c1301e6', node_type=<ObjectType.DOCUMENT: '4'>, metadata={}, hash='eef75f5ecb9af56742c14ac36cb4960f1576856bef28fd1d80419dec8894efaf'), <NodeRelationship.PREVIOUS: '2'>: RelatedNodeInfo(node_id='c7c235d8-f42f-4b9d-ba1e-e7019a4d9ac5', node_type=<ObjectType.TEXT: '1'>, metadata={}, hash='df8296ebe2ff244a24a6ba9be0b9fd471581512e59f582d5d8b5cb727723bb5b'), <NodeRelationship.NEXT: '3'>: RelatedNodeInfo(node_id='ef10f029-2da2-4431-aa01-84941771b002', node_type=<ObjectType.TEXT: '1'>, metadata={}, hash='c9797b3413828ef98db1b8778c9088650b74c234369f174fac99e55ae341b2f9')}, hash='44136fa355b3678a1146ad16f7e8649e94fb4fc21fe77e8310c060f61caaff8a', text='{\\n\"doc\": {\\n\"code\": \"IE603\",\\n\"title\": \"Discrete Event System Simulation\",\\n\"department\": {\\n\"name\": \"Industrial Engineering and Operations Research\",\\n\"slug\": \"industrial-engineering-and-operations-research\"\\n\"description\": \"Concepts in discrete event system simulation; approaches based on event scheduling, process interaction and activity scanning. Examples of systems such as job shop scheduling & extensions, queuing systems, inventory systems. Use of linked lists in implementing some common data structures encountered in simulation. Simulation in C. Concepts of object oriented simulation. Simulation packages. Overview of basic concepts from probability and statistics concerning random variables, correlation, estimation, confidence intervals, hypothesis testing. Generation and testing of random numbers. Generation of random variates, random vectors, correlated random variates and stochastic processes. Input modeling; useful probability distributions; hypothesizing families of distributions, estimation of parameters, testing goodness of fit. Simulation Output data analysis for a single system; statistical analyses for transient systems and systems in statistical equilibrium. Comparing alternative system configurations; confidence intervals, ranking and selection. Variance reduction techniques. Experimental design, sensitivity analysis and optimization. Simulation of manufacturing systems.\",\\n\"credits\": 6,\\n\"semester\": [\\n{\\n\"year\": 2023,\\n\"season\": \"autumn\",\\n\"timetable\": []\\n{\\n\"year\": 2023,\\n\"season\": \"spring\",\\n\"timetable\": []\\n}\\n],\\n\"tags\": [\\n\"Theory\",\\n\"Elective\"\\n]\\n}\\n}', start_char_idx=0, end_char_idx=1582, text_template='{metadata_str}\\n\\n{content}', metadata_template='{key}: {value}', metadata_seperator='\\n'), score=0.6617794721374337), NodeWithScore(node=TextNode(id_='83522703-2286-4125-b08a-5b9f67e6262a', embedding=None, metadata={}, excluded_embed_metadata_keys=[], excluded_llm_metadata_keys=[], relationships={<NodeRelationship.SOURCE: '1'>: RelatedNodeInfo(node_id='1ca425e3-621a-4d3f-a32d-8d95023583b0', node_type=<ObjectType.DOCUMENT: '4'>, metadata={}, hash='6dc9850b4a33c9ad13f5d120307cb9a32fb411f94f46fe406ad69910b0ae81d6'), <NodeRelationship.PREVIOUS: '2'>: RelatedNodeInfo(node_id='7c4f19c3-6932-4dc1-9e63-a8b69c871294', node_type=<ObjectType.TEXT: '1'>, metadata={}, hash='15b8113f08a33c0c59b60c9517969c95dc5a018cb05722b39722b0879ace252f'), <NodeRelationship.NEXT: '3'>: RelatedNodeInfo(node_id='ae8ee274-0b0e-4e46-a700-fdd4951cab14', node_type=<ObjectType.TEXT: '1'>, metadata={}, hash='45c697fdd314c242349ff738249b6087876abd2a1c1242ab14864a007e908203')}, hash='44136fa355b3678a1146ad16f7e8649e94fb4fc21fe77e8310c060f61caaff8a', text='{\\n\"doc\": {\\n\"code\": \"SOM648\",\\n\"title\": \"Simulation of Business Systems\",\\n\"department\": {\\n\"name\": \"Shailesh J. Mehta School of Management\",\\n\"slug\": \"shailesh-j-mehta-school-of-management\"\\n\"description\": \"Introduction to the application of simulation modeling for the analysis of complex industrial and manufacturing service systems. Simulation Philosophy and Methodologies, Random number Generation, Input and output analysis for simulation, Simulation using Spreadsheets, Simulation Languages, Animation, Design and Execution of Simulation Experiments, What-If Scenarios. Evaluation and Application Case Studies in Manufacturing, Supply Chain, Project Scheduling, Financial Analysis, Marketing, and Capital Budgeting. System Dynamic Models and their Corporate Applications.\",\\n\"credits\": 6,\\n\"semester\": [\\n{\\n\"year\": 2023,\\n\"season\": \"autumn\",\\n\"timetable\": []\\n{\\n\"year\": 2023,\\n\"season\": \"spring\",\\n\"timetable\": []\\n}\\n],\\n\"tags\": [\\n\"Theory\"\\n]\\n}\\n}', start_char_idx=0, end_char_idx=936, text_template='{metadata_str}\\n\\n{content}', metadata_template='{key}: {value}', metadata_seperator='\\n'), score=0.6609560549470973), NodeWithScore(node=TextNode(id_='b2adbfb2-254b-4a84-a339-a984d7012ca4', embedding=None, metadata={}, excluded_embed_metadata_keys=[], excluded_llm_metadata_keys=[], relationships={<NodeRelationship.SOURCE: '1'>: RelatedNodeInfo(node_id='0aa7791c-5c6d-415a-a954-a68948659d6d', node_type=<ObjectType.DOCUMENT: '4'>, metadata={}, hash='65fea7b6d61805cb5753c6b9b21decaa2858b8f1573dfd2702a6fd33a4ad48fc'), <NodeRelationship.PREVIOUS: '2'>: RelatedNodeInfo(node_id='60587c01-b254-4c9a-a4e8-43efbf5c9be2', node_type=<ObjectType.TEXT: '1'>, metadata={}, hash='deb92c644dfa4bcfc83d6ed8064f29adfa18e96e00421ec8c689bff39ed58cc9'), <NodeRelationship.NEXT: '3'>: RelatedNodeInfo(node_id='66f5593e-f590-4c46-80ac-b4048196961b', node_type=<ObjectType.TEXT: '1'>, metadata={}, hash='66eca429cf7af669ca547fc87bc11bae032e243914b0633bd3d355f8520276c1')}, hash='44136fa355b3678a1146ad16f7e8649e94fb4fc21fe77e8310c060f61caaff8a', text='{\\n\"doc\": {\\n\"code\": \"ME711\",\\n\"title\": \"Manufacturing Planning and Control\",\\n\"department\": {\\n\"name\": \"Mechanical Engineering\",\\n\"slug\": \"mechanical-engineering\"\\n\"description\": \"Overview of manufacturing systems and various issues of interest: Assembly Line, Repetitive batch manufacturing, Cellular manufacturing, FMS, JIT, CIM. Preplanning: Forecasting, Economic analysis, Aggregate planning, Capacity planning, Inventory planning. Decision making in design of manufacturing systems: Group technology, Line balancing, Plant layout. Operations planning: MRP, MRP II, Hierarchical planning systems, JIT systems, FMS. Operation and control: Lot sizing decisions, Production scheduling, Line of balance, Quality planning and control, Cost planning and control. Simulation analysis of manufacturing systems. Case studies.\",\\n\"credits\": 6,\\n\"semester\": [\\n{\\n\"year\": 2023,\\n\"season\": \"autumn\",\\n\"timetable\": []\\n{\\n\"year\": 2023,\\n\"season\": \"spring\",\\n\"timetable\": []\\n}\\n],\\n\"tags\": [\\n\"Theory\"\\n]\\n}\\n}', start_char_idx=0, end_char_idx=978, text_template='{metadata_str}\\n\\n{content}', metadata_template='{key}: {value}', metadata_seperator='\\n'), score=0.6540854140645415), NodeWithScore(node=TextNode(id_='37687d2e-1be1-4c63-889e-8468f2b3af07', embedding=None, metadata={}, excluded_embed_metadata_keys=[], excluded_llm_metadata_keys=[], relationships={<NodeRelationship.SOURCE: '1'>: RelatedNodeInfo(node_id='2306fb7e-054f-4078-b489-225a855a4599', node_type=<ObjectType.DOCUMENT: '4'>, metadata={}, hash='f79f391dae3bd73212fde6d3a96b8eb1b25ed947ecd4e0209cabb40aea9969e4'), <NodeRelationship.PREVIOUS: '2'>: RelatedNodeInfo(node_id='a3330ba5-c1d6-47f9-a59c-dfbe576ec950', node_type=<ObjectType.TEXT: '1'>, metadata={}, hash='3c3f6f7787f52c17113365fd05977ac5dee05bdebd8060967b711c6fd60ee10a'), <NodeRelationship.NEXT: '3'>: RelatedNodeInfo(node_id='d5cf984e-a074-477a-9d6c-f4f3b7a062bc', node_type=<ObjectType.TEXT: '1'>, metadata={}, hash='a75498ceeaf8a57cf6e682b40dad24b8ad3e5e03152b74e48731d35f65aa94f3')}, hash='44136fa355b3678a1146ad16f7e8649e94fb4fc21fe77e8310c060f61caaff8a', text='{\\n\"doc\": {\\n\"code\": \"TD653\",\\n\"title\": \"Biofuels: Technology and Policy Perspective\",\\n\"department\": {\\n\"name\": \"Centre for Technology Alternatives for Rural Areas\",\\n\"slug\": \"centre-for-technology-alternatives-for-rural-areas\"\\n\"description\": \"Various types of biomass (e.g. starch crops, sugar crops, wood waste, forestry residues, agricultural residues, perennial annual crops, municipal solid waste and so on) for biofuels production ( long-term sustainability and reliability of feedstock supply; feedstock quality, review of centralized vs decentralized approaches); food vs fuel debate; review of current processes for biofuel production from biomass; biofuels research focus at international level (USA, Brazil, China, Europe); biorefinery concept; economic models: costing of current and future processes for biofuel production from biomass; evaluation of current and future R&D needs; government policies and programs with regard to biofuels; socio-economic impact; implications for sustainability at the rural level; challenges and way ahead.\",\\n\"credits\": 6,\\n\"semester\": [\\n{\\n\"year\": 2023,\\n\"season\": \"autumn\",\\n\"timetable\": []\\n{\\n\"year\": 2023,\\n\"season\": \"spring\",\\n\"timetable\": [\\n{\\n\"id\": 3559,\\n\"created_by\": \"bd6806b6-2cdb-455d-a873-67b4f4f12157\",\\n\"course\": \"TD653\",\\n\"division\": \"Core\",\\n\"lecture_slots\": [\\n\"11A\",\\n\"11B\"\\n],\\n\"tutorial_slots\": [],\\n\"lecture_venue\": \"LC 001\",\\n\"professor\": \"Amit Y. Arora\"\\n}\\n]\\n}\\n],\\n\"tags\": [\\n\"Theory\",\\n\"Minor\",\\n\"Elective\",\\n\"Electives\"\\n]\\n}\\n}', start_char_idx=0, end_char_idx=1468, text_template='{metadata_str}\\n\\n{content}', metadata_template='{key}: {value}', metadata_seperator='\\n'), score=0.6530312281253646)], metadata={'6427c960-aece-4899-aae6-e051af493ebf': {}, '1d313eab-7d6a-45a3-8fc4-cd526ce10410': {}, 'f2f992ab-54e3-4309-8898-815c2a7d0fff': {}, 'df1dd52b-30ca-4fa9-89c2-bf7eb722f9d0': {}, '83522703-2286-4125-b08a-5b9f67e6262a': {}, 'b2adbfb2-254b-4a84-a339-a984d7012ca4': {}, '37687d2e-1be1-4c63-889e-8468f2b3af07': {}})"
            ]
          },
          "metadata": {},
          "execution_count": 29
        }
      ]
    },
    {
      "cell_type": "code",
      "source": [
        "# # configure retriever\n",
        "# retriever = VectorIndexRetriever(\n",
        "#     index=index,\n",
        "#     similarity_top_k=10,\n",
        "# )\n",
        "\n",
        "# # configure response synthesizer\n",
        "# response_synthesizer = get_response_synthesizer()\n",
        "\n",
        "# # assemble query engine\n",
        "# query_engine = RetrieverQueryEngine(\n",
        "#     retriever=retriever,\n",
        "#     response_synthesizer=response_synthesizer,\n",
        "#     node_postprocessors=[SimilarityPostprocessor(similarity_cutoff=0.7)],\n",
        "# )\n",
        "\n",
        "# # query\n",
        "# response = query_engine.query(\"Give me the description of SC646 course.\")\n",
        "# display(Markdown(f\"<b>{response}</b>\"))\n"
      ],
      "metadata": {
        "id": "l8LSgiYor_9E"
      },
      "execution_count": 21,
      "outputs": []
    },
    {
      "cell_type": "code",
      "source": [],
      "metadata": {
        "id": "C050WnJ_nn40"
      },
      "execution_count": 19,
      "outputs": []
    }
  ]
}